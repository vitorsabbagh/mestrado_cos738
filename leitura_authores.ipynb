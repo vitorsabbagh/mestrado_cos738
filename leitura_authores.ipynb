{
  "nbformat": 4,
  "nbformat_minor": 0,
  "metadata": {
    "colab": {
      "name": "leitura_authores.ipynb",
      "provenance": [],
      "authorship_tag": "ABX9TyMsff83ujBGIjRarDeXjogV",
      "include_colab_link": true
    },
    "kernelspec": {
      "name": "python3",
      "display_name": "Python 3"
    }
  },
  "cells": [
    {
      "cell_type": "markdown",
      "metadata": {
        "id": "view-in-github",
        "colab_type": "text"
      },
      "source": [
        "<a href=\"https://colab.research.google.com/github/vitorsabbagh/mestrado_cos738/blob/master/leitura_authores.ipynb\" target=\"_parent\"><img src=\"https://colab.research.google.com/assets/colab-badge.svg\" alt=\"Open In Colab\"/></a>"
      ]
    },
    {
      "cell_type": "code",
      "metadata": {
        "id": "ODbo_f7AfJMC",
        "colab_type": "code",
        "colab": {}
      },
      "source": [
        "from xml.dom import minidom\n",
        "import xml.etree.cElementTree as ET\n",
        "\n",
        "doc = minidom.parse(\"cf79.xml\")\n",
        "\n",
        "# doc.getElementsByTagName returns NodeList\n",
        "# name = doc.getElementsByTagName(\"TITLE\")[0]\n",
        "# print(name.firstChild.data)\n",
        "\n",
        "authors = doc.getElementsByTagName(\"AUTHOR\")\n",
        "\n",
        "authors_new = ET.Element(\"authors\")\n",
        "\n",
        "for author in authors:\n",
        "        # print(author.firstChild.data)\n",
        "        ET.SubElement(authors_new, \"author\", name=author.firstChild.data).text = author.firstChild.data\n",
        "\n",
        "\n",
        "\n",
        "tree = ET.ElementTree(authors_new)\n",
        "tree.write(\"authors.xml\")\n",
        "        "
      ],
      "execution_count": 7,
      "outputs": []
    },
    {
      "cell_type": "code",
      "metadata": {
        "id": "NAU1pzEslHRn",
        "colab_type": "code",
        "colab": {}
      },
      "source": [
        "from xml.dom import minidom\n",
        "import xml.etree.cElementTree as ET\n",
        "\n",
        "doc = minidom.parse(\"cf79.xml\")\n",
        "\n",
        "# doc.getElementsByTagName returns NodeList\n",
        "# name = doc.getElementsByTagName(\"TITLE\")[0]\n",
        "# print(name.firstChild.data)\n",
        "\n",
        "authors = doc.getElementsByTagName(\"AUTHOR\")\n",
        "\n",
        "authors_new = ET.Element(\"authors\")\n",
        "\n",
        "for author in authors:\n",
        "        # print(author.firstChild.data)\n",
        "        ET.SubElement(authors_new, \"author\", name=author.firstChild.data).text = author.firstChild.data\n",
        "\n",
        "\n",
        "\n",
        "tree = ET.ElementTree(authors_new)\n",
        "tree.write(\"authors.xml\")\n",
        "        "
      ],
      "execution_count": null,
      "outputs": []
    }
  ]
}